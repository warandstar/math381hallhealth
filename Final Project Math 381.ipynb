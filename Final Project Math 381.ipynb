{
 "cells": [
  {
   "cell_type": "markdown",
   "metadata": {},
   "source": [
    "All of the data was provided by hall health"
   ]
  },
  {
   "cell_type": "code",
   "execution_count": 1,
   "metadata": {},
   "outputs": [],
   "source": [
    "import random\n",
    "import numpy\n",
    "from statistics import mean, stdev\n",
    "import math \n",
    "import matplotlib.pyplot as plt\n",
    "\n",
    "no_show_rate =  0.2685272\n",
    "\n",
    "min_rate = 0.12\n",
    "max_rate = 0.88\n",
    "\n",
    "iterations = 1000 #simulations\n",
    "intervals = 250 #days\n",
    "num_therapists = 4 #averagely there are 4 therapists per hour"
   ]
  },
  {
   "cell_type": "markdown",
   "metadata": {},
   "source": [
    "No System at all"
   ]
  },
  {
   "cell_type": "code",
   "execution_count": 2,
   "metadata": {},
   "outputs": [],
   "source": [
    "objective_none = []\n",
    "resources_wasted_none = [] # by no show\n",
    "objective_func_none = [-1] #-1 for patients who did not show up\n",
    "\n",
    "for iteration in range(iterations):\n",
    "    day = 0\n",
    "    temp_objective_none = []\n",
    "    temp_resources_wasted_none = []\n",
    "    \n",
    "    while day < intervals:\n",
    "        no_show_rate = numpy.random.normal(loc=0.2685272, scale=0.09121678, size=1)[0]\n",
    "        patients_visit = int(numpy.random.normal(62.476, scale=16.72728))\n",
    "        if no_show_rate < min_rate:\n",
    "            no_show_rate = min_rate\n",
    "        if patients_visit < 40:\n",
    "            patients_visit = 40\n",
    "        patients_show = int(numpy.random.binomial(patients_visit, 1 - no_show_rate) + 0.5)\n",
    "        patients_no_show = patients_visit - patients_show\n",
    "        temp_resources_wasted_none.append(patients_no_show)\n",
    "        obj_result = objective_func_none[0] * patients_no_show\n",
    "        temp_objective_none.append(obj_result)\n",
    "        day = day + 1\n",
    "    objective_none.append(temp_objective_none)\n",
    "    resources_wasted_none.append(temp_resources_wasted_none)"
   ]
  },
  {
   "cell_type": "code",
   "execution_count": 3,
   "metadata": {},
   "outputs": [],
   "source": [
    "avg_objective_none = []\n",
    "avg_resources_wasted_none = []\n",
    "for iter in range(iterations):\n",
    "    avg_objective_none.append(mean(objective_none[iter]))\n",
    "    avg_resources_wasted_none.append(mean(resources_wasted_none[iter]))"
   ]
  },
  {
   "cell_type": "code",
   "execution_count": 4,
   "metadata": {},
   "outputs": [
    {
     "data": {
      "text/plain": [
       "-16.952616"
      ]
     },
     "execution_count": 4,
     "metadata": {},
     "output_type": "execute_result"
    }
   ],
   "source": [
    "avg_avg_objective_none = mean(avg_objective_none)\n",
    "avg_avg_objective_none"
   ]
  },
  {
   "cell_type": "code",
   "execution_count": 6,
   "metadata": {},
   "outputs": [
    {
     "data": {
      "text/plain": [
       "(array([ 10.,   5.,   7.,  12.,  20.,  40.,  42.,  56.,  75.,  76.,  97.,\n",
       "        110.,  89., 103.,  79.,  54.,  40.,  36.,  27.,  14.,   4.,   0.,\n",
       "          1.,   1.,   2.]),\n",
       " array([-18.352  , -18.22976, -18.10752, -17.98528, -17.86304, -17.7408 ,\n",
       "        -17.61856, -17.49632, -17.37408, -17.25184, -17.1296 , -17.00736,\n",
       "        -16.88512, -16.76288, -16.64064, -16.5184 , -16.39616, -16.27392,\n",
       "        -16.15168, -16.02944, -15.9072 , -15.78496, -15.66272, -15.54048,\n",
       "        -15.41824, -15.296  ]),\n",
       " <a list of 25 Patch objects>)"
      ]
     },
     "execution_count": 6,
     "metadata": {},
     "output_type": "execute_result"
    },
    {
     "data": {
      "image/png": "[encoded data removed]",
      "text/plain": [
       "<matplotlib.figure.Figure at 0x198cd20e198>"
      ]
     },
     "metadata": {},
     "output_type": "display_data"
    }
   ],
   "source": [
    "plt.hist(avg_objective_none, bins = 25)"
   ]
  },
  {
   "cell_type": "code",
   "execution_count": 7,
   "metadata": {},
   "outputs": [],
   "source": [
    "#stress test: when there are patients at maximum capacity\n",
    "objective_none_max = []\n",
    "resources_wasted_none_max = [] # by no show\n",
    "objective_func_none_max = [-1] #-1 for patients who did not show up\n",
    "\n",
    "for iteration in range(iterations):\n",
    "    day = 0\n",
    "    temp_objective_none_max = []\n",
    "    temp_resources_wasted_none_max = []\n",
    "    \n",
    "    while day < intervals:\n",
    "        no_show_rate = numpy.random.normal(loc=0.2685272, scale=0.09121678, size=1)[0]\n",
    "        patients_visit = 4 * 9 * 2\n",
    "        if no_show_rate < min_rate:\n",
    "            no_show_rate = min_rate\n",
    "        patients_show = int(numpy.random.binomial(patients_visit, 1 - no_show_rate) + 0.5)\n",
    "        patients_no_show = patients_visit - patients_show\n",
    "        temp_resources_wasted_none_max.append(patients_no_show)\n",
    "        obj_result = objective_func_none[0] * patients_no_show\n",
    "        temp_objective_none_max.append(obj_result)\n",
    "        day = day + 1\n",
    "    objective_none_max.append(temp_objective_none_max)\n",
    "    resources_wasted_none_max.append(temp_resources_wasted_none_max)"
   ]
  },
  {
   "cell_type": "code",
   "execution_count": 9,
   "metadata": {},
   "outputs": [],
   "source": [
    "avg_objective_none_max = []\n",
    "avg_resources_wasted_none_max = []\n",
    "for iter in range(iterations):\n",
    "    avg_objective_none_max.append(mean(objective_none_max[iter]))\n",
    "    avg_resources_wasted_none_max.append(mean(resources_wasted_none_max[iter]))"
   ]
  },
  {
   "cell_type": "code",
   "execution_count": 10,
   "metadata": {},
   "outputs": [
    {
     "data": {
      "text/plain": [
       "-19.463572"
      ]
     },
     "execution_count": 10,
     "metadata": {},
     "output_type": "execute_result"
    }
   ],
   "source": [
    "avg_avg_objective_none_max = mean(avg_objective_none_max)\n",
    "avg_avg_objective_none_max"
   ]
  },
  {
   "cell_type": "code",
   "execution_count": 12,
   "metadata": {},
   "outputs": [
    {
     "data": {
      "text/plain": [
       "(array([ 1.,  4.,  5.,  6.,  8., 17., 34., 46., 53., 71., 97., 89., 95.,\n",
       "        91., 93., 86., 62., 47., 33., 25., 14., 10.,  9.,  2.,  2.]),\n",
       " array([-20.904  , -20.79088, -20.67776, -20.56464, -20.45152, -20.3384 ,\n",
       "        -20.22528, -20.11216, -19.99904, -19.88592, -19.7728 , -19.65968,\n",
       "        -19.54656, -19.43344, -19.32032, -19.2072 , -19.09408, -18.98096,\n",
       "        -18.86784, -18.75472, -18.6416 , -18.52848, -18.41536, -18.30224,\n",
       "        -18.18912, -18.076  ]),\n",
       " <a list of 25 Patch objects>)"
      ]
     },
     "execution_count": 12,
     "metadata": {},
     "output_type": "execute_result"
    },
    {
     "data": {
      "image/png": "[encoded data removed]",
      "text/plain": [
       "<matplotlib.figure.Figure at 0x198ceb7ea90>"
      ]
     },
     "metadata": {},
     "output_type": "display_data"
    }
   ],
   "source": [
    "plt.hist(avg_objective_none_max, bins = 25)"
   ]
  },
  {
   "cell_type": "markdown",
   "metadata": {},
   "source": [
    "Current Fee System"
   ]
  },
  {
   "cell_type": "code",
   "execution_count": 2,
   "metadata": {},
   "outputs": [],
   "source": [
    "objective_current = []\n",
    "resources_wasted_current = []\n",
    "objective_func_current = [-1, -0.4, -0.25, 1] \n",
    "# -1 for not showing up, -0.4 for no show fee, -0.25 for late cancellation, \n",
    "#1 for patients aware of punishment who show up for what they were intended to miss\n",
    "\n",
    "for iteration in range(iterations):\n",
    "    day = 0\n",
    "    temp_objective_current = []\n",
    "    temp_resources_wasted_current = []\n",
    "    \n",
    "    while day < intervals:\n",
    "        no_show_rate = numpy.random.normal(loc=0.2685272, scale=0.09121678, size=1)[0]\n",
    "        patients_visit = int(numpy.random.normal(62.476, scale=16.72728))\n",
    "        if no_show_rate < min_rate:\n",
    "             no_show_rate = min_rate\n",
    "        if patients_visit < 40:\n",
    "            patients_visit = 40\n",
    "        patients_show = int(numpy.random.binomial(patients_visit, 1 - no_show_rate) + 0.5)\n",
    "        patients_no_show = patients_visit - patients_show\n",
    "\n",
    "        patients_not_showing = int(numpy.random.binomial(patients_no_show, 0.3478166) + 0.5)\n",
    "        patients_late_cancel = patients_no_show - patients_not_showing\n",
    "\n",
    "        #data shows that the difference between no show rate before and after fee system is 0.3% -- statistically insignificant\n",
    "        force_rate = 0.0028462 #from potential no show patients to come to the appointment\n",
    "        late_cancel_rate = 0.02260969 # patients who will not show up will now consider late cancellation as option to save money\n",
    "\n",
    "        patients_changing_mind = int(numpy.random.binomial(patients_no_show, 0.0028462) + 0.5)\n",
    "        patients_changing_late = int(numpy.random.binomial(patients_not_showing, 0.02260969) + 0.5)\n",
    "\n",
    "        patients_no_show = patients_no_show - patients_changing_mind\n",
    "        patients_not_showing -= patients_changing_late - patients_changing_mind\n",
    "        patients_late_cancel += patients_changing_late\n",
    "        \n",
    "        result = [patients_no_show, patients_not_showing, patients_late_cancel, patients_changing_mind]\n",
    "        \n",
    "        obj_result = 0\n",
    "        for i in range(len(result)):\n",
    "            obj_result += objective_func_current[i] * result[i]\n",
    "        temp_resources_wasted_current.append(result)\n",
    "        temp_objective_current.append(obj_result)\n",
    "        \n",
    "        day = day + 1\n",
    "   \n",
    "    objective_current.append(temp_objective_current)\n",
    "    resources_wasted_current.append(temp_resources_wasted_current)\n",
    "    \n",
    "    "
   ]
  },
  {
   "cell_type": "code",
   "execution_count": 4,
   "metadata": {},
   "outputs": [],
   "source": [
    "avg_objective_current = []\n",
    "avg_no_show_current = []\n",
    "avg_not_showing_current = []\n",
    "avg_late_cancel_current = []\n",
    "avg_changing_mind_current = []\n",
    "\n",
    "\n",
    "for iter in range(iterations):\n",
    "    avg_objective_current.append(mean(objective_current[iter]))\n",
    "    sum_no_show = 0\n",
    "    sum_not_showing = 0\n",
    "    sum_late_cancel = 0\n",
    "    sum_changing = 0\n",
    "    for j in range(intervals):\n",
    "        sum_no_show += resources_wasted_current[iter][j][0]\n",
    "        sum_not_showing += resources_wasted_current[iter][j][1]\n",
    "        sum_late_cancel += resources_wasted_current[iter][j][2]\n",
    "        sum_changing += resources_wasted_current[iter][j][3]\n",
    "    avg_no_show_current.append(sum_no_show / intervals)\n",
    "    avg_not_showing_current.append(sum_not_showing / intervals)\n",
    "    avg_late_cancel_current.append(sum_late_cancel / intervals)\n",
    "    avg_changing_mind_current.append(sum_changing / intervals)\n",
    "        "
   ]
  },
  {
   "cell_type": "code",
   "execution_count": 281,
   "metadata": {},
   "outputs": [
    {
     "data": {
      "text/plain": [
       "0.6326272545331715"
      ]
     },
     "execution_count": 281,
     "metadata": {},
     "output_type": "execute_result"
    }
   ],
   "source": [
    "avg_avg_objective_current = mean(avg_objective_current)\n",
    "avg_avg_objective_current\n",
    "stdev(avg_objective_current)"
   ]
  },
  {
   "cell_type": "code",
   "execution_count": 5,
   "metadata": {},
   "outputs": [
    {
     "data": {
      "text/plain": [
       "16.904872"
      ]
     },
     "execution_count": 5,
     "metadata": {},
     "output_type": "execute_result"
    }
   ],
   "source": [
    "avg_avg_no_show_current = mean(avg_no_show_current)\n",
    "avg_avg_no_show_current"
   ]
  },
  {
   "cell_type": "code",
   "execution_count": 6,
   "metadata": {},
   "outputs": [
    {
     "data": {
      "text/plain": [
       "5.808732"
      ]
     },
     "execution_count": 6,
     "metadata": {},
     "output_type": "execute_result"
    }
   ],
   "source": [
    "avg_avg_not_showing_current = mean(avg_not_showing_current)\n",
    "avg_avg_not_showing_current"
   ]
  },
  {
   "cell_type": "code",
   "execution_count": 7,
   "metadata": {},
   "outputs": [
    {
     "data": {
      "text/plain": [
       "11.192236"
      ]
     },
     "execution_count": 7,
     "metadata": {},
     "output_type": "execute_result"
    }
   ],
   "source": [
    "avg_avg_late_cancel_current = mean(avg_late_cancel_current)\n",
    "avg_avg_late_cancel_current"
   ]
  },
  {
   "cell_type": "code",
   "execution_count": 8,
   "metadata": {},
   "outputs": [
    {
     "data": {
      "text/plain": [
       "0.048048"
      ]
     },
     "execution_count": 8,
     "metadata": {},
     "output_type": "execute_result"
    }
   ],
   "source": [
    "avg_avg_changing_mind_current = mean(avg_changing_mind_current)\n",
    "avg_avg_changing_mind_current"
   ]
  },
  {
   "cell_type": "code",
   "execution_count": 31,
   "metadata": {},
   "outputs": [
    {
     "data": {
      "text/plain": [
       "(array([  2.,   2.,   7.,  17.,  17.,  23.,  36.,  58.,  70.,  77.,  99.,\n",
       "         99., 102., 103.,  81.,  66.,  55.,  39.,  19.,   7.,  10.,   4.,\n",
       "          1.,   4.,   2.]),\n",
       " array([-23.8232  , -23.670312, -23.517424, -23.364536, -23.211648,\n",
       "        -23.05876 , -22.905872, -22.752984, -22.600096, -22.447208,\n",
       "        -22.29432 , -22.141432, -21.988544, -21.835656, -21.682768,\n",
       "        -21.52988 , -21.376992, -21.224104, -21.071216, -20.918328,\n",
       "        -20.76544 , -20.612552, -20.459664, -20.306776, -20.153888,\n",
       "        -20.001   ]),\n",
       " <a list of 25 Patch objects>)"
      ]
     },
     "execution_count": 31,
     "metadata": {},
     "output_type": "execute_result"
    },
    {
     "data": {
      "image/png": "[encoded data removed]",
      "text/plain": [
       "<matplotlib.figure.Figure at 0x198cd3436d8>"
      ]
     },
     "metadata": {},
     "output_type": "display_data"
    }
   ],
   "source": [
    "plt.hist(avg_objective_current, bins = 25)"
   ]
  },
  {
   "cell_type": "code",
   "execution_count": 26,
   "metadata": {},
   "outputs": [
    {
     "data": {
      "text/plain": [
       "[<matplotlib.lines.Line2D at 0x2c74e316f60>]"
      ]
     },
     "execution_count": 26,
     "metadata": {},
     "output_type": "execute_result"
    },
    {
     "data": {
      "image/png": "[encoded data removed]",
      "text/plain": [
       "<matplotlib.figure.Figure at 0x2c74d29a828>"
      ]
     },
     "metadata": {},
     "output_type": "display_data"
    }
   ],
   "source": [
    "plt.plot(avg_objective_current)"
   ]
  },
  {
   "cell_type": "code",
   "execution_count": 32,
   "metadata": {},
   "outputs": [],
   "source": [
    "# stress test when potential patients coming in are maxed\n",
    "\n",
    "objective_current_max = []\n",
    "resources_wasted_current_max = []\n",
    "objective_func_current_max = [-1, -0.4, -0.25, 1] \n",
    "# -1 for not showing up, -0.4 for no show fee, -0.25 for late cancellation, \n",
    "#1 for patients aware of punishment who show up for what they were intended to miss\n",
    "\n",
    "for iteration in range(iterations):\n",
    "    day = 0\n",
    "    temp_objective_current_max = []\n",
    "    temp_resources_wasted_current_max = []\n",
    "    \n",
    "    while day < intervals:\n",
    "        no_show_rate = numpy.random.normal(loc=0.2685272, scale=0.09121678, size=1)[0]\n",
    "        patients_visit = 4 * 9 * 2\n",
    "        if no_show_rate < min_rate:\n",
    "             no_show_rate = min_rate\n",
    "        patients_show = int(numpy.random.binomial(patients_visit, 1 - no_show_rate) + 0.5)\n",
    "        patients_no_show = patients_visit - patients_show\n",
    "\n",
    "        patients_not_showing = int(numpy.random.binomial(patients_no_show, 0.3478166) + 0.5)\n",
    "        patients_late_cancel = patients_no_show - patients_not_showing\n",
    "\n",
    "        #data shows that the difference between no show rate before and after fee system is 0.3% -- statistically insignificant\n",
    "        force_rate = 0.0028462 #from potential no show patients to come to the appointment\n",
    "        late_cancel_rate = 0.02260969 # patients who will not show up will now consider late cancellation as option to save money\n",
    "\n",
    "        patients_changing_mind = int(numpy.random.binomial(patients_no_show, 0.0028462) + 0.5)\n",
    "        patients_changing_late = int(numpy.random.binomial(patients_not_showing, 0.02260969) + 0.5)\n",
    "\n",
    "        patients_no_show = patients_no_show - patients_changing_mind\n",
    "        patients_not_showing -= patients_changing_late - patients_changing_mind\n",
    "        patients_late_cancel += patients_changing_late\n",
    "        \n",
    "        result = [patients_no_show, patients_not_showing, patients_late_cancel, patients_changing_mind]\n",
    "        \n",
    "        obj_result = 0\n",
    "        for i in range(len(result)):\n",
    "            obj_result += objective_func_current[i] * result[i]\n",
    "        temp_resources_wasted_current_max.append(result)\n",
    "        temp_objective_current_max.append(obj_result)\n",
    "        \n",
    "        day = day + 1\n",
    "   \n",
    "    objective_current_max.append(temp_objective_current_max)\n",
    "    resources_wasted_current_max.append(temp_resources_wasted_current_max)\n",
    "    \n",
    "    "
   ]
  },
  {
   "cell_type": "code",
   "execution_count": 33,
   "metadata": {},
   "outputs": [],
   "source": [
    "avg_objective_current_max = []\n",
    "for iter in range(iterations):\n",
    "    avg_objective_current_max.append(mean(objective_current_max[iter]))"
   ]
  },
  {
   "cell_type": "code",
   "execution_count": 34,
   "metadata": {},
   "outputs": [
    {
     "data": {
      "text/plain": [
       "-25.2602196"
      ]
     },
     "execution_count": 34,
     "metadata": {},
     "output_type": "execute_result"
    }
   ],
   "source": [
    "avg_avg_objective_current_max = mean(avg_objective_current_max)\n",
    "avg_avg_objective_current_max"
   ]
  },
  {
   "cell_type": "code",
   "execution_count": 35,
   "metadata": {},
   "outputs": [
    {
     "data": {
      "text/plain": [
       "(array([  5.,   2.,   7.,  10.,  14.,  27.,  25.,  50.,  67.,  71.,  73.,\n",
       "         93.,  78., 109., 111.,  69.,  57.,  36.,  41.,  23.,  10.,   7.,\n",
       "          6.,   6.,   3.]),\n",
       " array([-27.014  , -26.87352, -26.73304, -26.59256, -26.45208, -26.3116 ,\n",
       "        -26.17112, -26.03064, -25.89016, -25.74968, -25.6092 , -25.46872,\n",
       "        -25.32824, -25.18776, -25.04728, -24.9068 , -24.76632, -24.62584,\n",
       "        -24.48536, -24.34488, -24.2044 , -24.06392, -23.92344, -23.78296,\n",
       "        -23.64248, -23.502  ]),\n",
       " <a list of 25 Patch objects>)"
      ]
     },
     "execution_count": 35,
     "metadata": {},
     "output_type": "execute_result"
    },
    {
     "data": {
      "image/png": "[encoded data removed]",
      "text/plain": [
       "<matplotlib.figure.Figure at 0x198d0a2a518>"
      ]
     },
     "metadata": {},
     "output_type": "display_data"
    }
   ],
   "source": [
    "plt.hist(avg_objective_current_max, bins = 25)"
   ]
  },
  {
   "cell_type": "code",
   "execution_count": 9,
   "metadata": {},
   "outputs": [],
   "source": [
    "sunshine_morning = [0.09, 0.10, 0.19, 0.14, 0.18, 0.13, 0.17]\n",
    "sunshine_afternoon = [0.07, 0.13, 0.21, 0.12, 0.17, 0.15, 0.15]\n",
    "sunshine_array = []\n",
    "sunshine_array.append(sunshine_morning)\n",
    "sunshine_array.append(sunshine_afternoon)"
   ]
  },
  {
   "cell_type": "markdown",
   "metadata": {},
   "source": [
    "Overbooking System"
   ]
  },
  {
   "cell_type": "code",
   "execution_count": 10,
   "metadata": {},
   "outputs": [],
   "source": [
    "def SlotSimulator(num_patients, sunshine):\n",
    "    slots = []\n",
    "    new_slots = []\n",
    "    waiting = []\n",
    "    for i in range(7):\n",
    "        slots.append(0)\n",
    "\n",
    "    for i in range(9):\n",
    "        waiting.append(0)\n",
    "        new_slots.append(0)\n",
    "    # randomize the slot\n",
    "    i = 0\n",
    "    for i in range(7):\n",
    "        slots[i] = numpy.random.binomial(2, sunshine_array[sunshine][i])\n",
    "    while sum(slots) < num_patients and sum(slots) < 14:\n",
    "        index = random.randint(0,6)\n",
    "        if slots[index] < 2:\n",
    "            slots[index] += 1\n",
    "     \n",
    "    slots_used = 0\n",
    "    slots_used_no_show = 0\n",
    "    total_visit_slots = max(sum(slots), num_patients)\n",
    "    old_slots = []\n",
    "    # who will not show up??\n",
    "    for i in range(7):\n",
    "        tempon = numpy.random.binomial(slots[i], 1 - no_show_rate)\n",
    "        new_slots[i] = tempon\n",
    "        old_slots.append(tempon)\n",
    "        if slots[i] > 0:\n",
    "            slots_used += 1\n",
    "        if new_slots[i] > 0:\n",
    "            slots_used_no_show += 1\n",
    "        \n",
    "   \n",
    "    slots_no_show = sum(new_slots)\n",
    "    # simulate complete\n",
    "    for i in range(len(new_slots)):\n",
    "        if new_slots[i] >= 1 and waiting[i] == 0:\n",
    "            if i < 8:\n",
    "                waiting[i+1] = new_slots[i] - 1\n",
    "            new_slots[i] = 1\n",
    "        elif new_slots[i] >= 1 and waiting[i] > 0:\n",
    "            if i < 8:\n",
    "                waiting[i+1] = new_slots[i] + waiting[i] - 1\n",
    "            new_slots[i] = 1\n",
    "        elif new_slots[i] == 0 and waiting[i] > 0:\n",
    "            new_slots[i] = 1\n",
    "            if i < 8:\n",
    "                waiting[i+1] = waiting[i] - 1\n",
    "            for j in range(i-2, i+1):\n",
    "                tempo = waiting[j] - 1\n",
    "                waiting[j] = max(0, tempo)\n",
    "                \n",
    "        # after waiting one hour patients will reschedule\n",
    "        if i >= 2 and i < 8 and waiting[i-2] > 0:\n",
    "            temp = waiting[i+1] - waiting[i-2]\n",
    "            waiting[i+1] = max(0, temp)\n",
    "            for j in range(i-2,i):\n",
    "                temp2 = waiting[j] - waiting[i-2]\n",
    "                waiting[j] = max(0, temp2)\n",
    "        \n",
    "    slot_potential_wasted = slots_used - slots_used_no_show\n",
    "    give_up = slots_no_show - sum(new_slots)\n",
    "    wait_only_one_time = sum(new_slots) - slots_used_no_show\n",
    "    loss_prevented = sum(new_slots) - slots_used_no_show\n",
    "\n",
    "    return [slot_potential_wasted, give_up, wait_only_one_time, loss_prevented]   "
   ]
  },
  {
   "cell_type": "code",
   "execution_count": 12,
   "metadata": {},
   "outputs": [],
   "source": [
    "objective_over = []\n",
    "resources_wasted_over = [] #due to no show patients (captured by diff between potential slot used and actual used)\n",
    "available_slots_over = [] #more patients coming to clinic = more patients need to reschedule\n",
    "objective_func_over = [-1, -1.5, -0.25, -0.6, -0.15, 0.5]\n",
    "# -1: no show (slot-wise), -1.5: waiting too long to reschedule, -0.25: waiting just for one slot, 0: no waiting\n",
    "# -0.6: too packed (worst case), -0.15 : ok packed, 0: no packed, 0.5: slot created by letting patients wait\n",
    "\n",
    "for iteration in range(iterations):\n",
    "    day = 0\n",
    "    temp_objective_over = []\n",
    "    temp_resources_wasted_over = []\n",
    "    temp_available_slots_over = []\n",
    "    \n",
    "    while day < intervals:\n",
    "        no_show_rate = numpy.random.normal(loc=0.2685272, scale=0.09121678, size=1)[0]\n",
    "        patients_visit = int(numpy.random.normal(62.476, scale=16.72728))\n",
    "        if no_show_rate < min_rate:\n",
    "             no_show_rate = min_rate\n",
    "        if patients_visit < 40:\n",
    "            patients_visit = 40\n",
    "        if patients_visit > 112:\n",
    "            patients_visit = 112\n",
    "        \n",
    "        #randomize each slot to \"therapist\" (notice: therapists in this case is not just one, but share the same slots)\n",
    "        therapists_patients = []\n",
    "        patients_per_therapist = int(patients_visit / num_therapists)\n",
    "        for i in range(num_therapists):\n",
    "            therapists_patients.append(patients_per_therapist)\n",
    "        i = 0\n",
    "        while sum(therapists_patients) < patients_visit:\n",
    "            therapists_patients[i] += 1\n",
    "            i += 1\n",
    "\n",
    "                     \n",
    "        #slots are divided by 2 section: morning and afternoon\n",
    "        # for each morning and afternoon, there are 7 slots (8-11:30, 1-4:30) and 2 open slots (11:30~12:30 and 4:30~5:30)\n",
    "        slots_wasted = 0\n",
    "        patients_give_up = 0\n",
    "        patients_wait_one_time = 0\n",
    "        slots_created = 0\n",
    "        ys = []\n",
    "        for therapist in range(len(therapists_patients)):\n",
    "            visit_morning = int(therapists_patients[therapist] / 2 + 2.52)\n",
    "            visit_afternoon = therapists_patients[therapist] - visit_morning \n",
    "           \n",
    "            morning_result_therapist = SlotSimulator(visit_morning, 0)\n",
    "            afternoon_result_therapist = SlotSimulator(visit_afternoon, 1)\n",
    "            \n",
    "            slots_wasted += morning_result_therapist[0] + afternoon_result_therapist[0]\n",
    "            patients_give_up += morning_result_therapist[1] + afternoon_result_therapist[1]\n",
    "            patients_wait_one_time += morning_result_therapist[2] + afternoon_result_therapist[2]\n",
    "            ys.append(visit_morning + visit_afternoon - 14)\n",
    "            \n",
    "            slots_created += morning_result_therapist[3] + afternoon_result_therapist[3]\n",
    "        ok_packed = 0\n",
    "        too_packed = 0\n",
    "        for y in range(len(ys)):\n",
    "            if y > 0 and y <= 2:\n",
    "                ok_packed += 1\n",
    "            elif y > 2:\n",
    "                too_packed += 1\n",
    "        \n",
    "        result = [slots_wasted, patients_give_up, patients_wait_one_time, too_packed, ok_packed, slots_created]\n",
    "        obj_result = 0\n",
    "        for i in range(len(objective_func_over)):\n",
    "            obj_result += objective_func_over[i] * result[i]\n",
    "                   \n",
    "        temp_objective_over.append(obj_result)\n",
    "        temp_resources_wasted_over.append([slots_wasted, too_packed, ok_packed, slots_created])\n",
    "        temp_available_slots_over.append([patients_give_up, patients_wait_one_time])\n",
    "        day = day + 1\n",
    "\n",
    "    objective_over.append(temp_objective_over)\n",
    "    resources_wasted_over.append(temp_resources_wasted_over)\n",
    "    available_slots_over.append(temp_available_slots_over)\n",
    "        "
   ]
  },
  {
   "cell_type": "code",
   "execution_count": 13,
   "metadata": {},
   "outputs": [],
   "source": [
    "avg_objective_over = []\n",
    "avg_wasted_over = []\n",
    "avg_give_up_over = []\n",
    "avg_wait_over = []\n",
    "for iter in range(iterations):\n",
    "    avg_objective_over.append(mean(objective_over[iter]))\n",
    "    sum_wasted = 0\n",
    "    sum_give_up = 0\n",
    "    sum_wait = 0\n",
    "    for j in range(intervals):\n",
    "        sum_wasted += resources_wasted_over[iter][j][0]\n",
    "        sum_give_up += available_slots_over[iter][j][0]\n",
    "        sum_wait += available_slots_over[iter][j][1]\n",
    "    avg_wasted_over.append(sum_wasted / intervals)\n",
    "    avg_give_up_over.append(sum_give_up / intervals)\n",
    "    avg_wait_over.append(sum_wait / intervals)\n",
    "    "
   ]
  },
  {
   "cell_type": "code",
   "execution_count": 19,
   "metadata": {},
   "outputs": [
    {
     "data": {
      "text/plain": [
       "-12.486207"
      ]
     },
     "execution_count": 19,
     "metadata": {},
     "output_type": "execute_result"
    }
   ],
   "source": [
    "avg_avg_objective_over = mean(avg_objective_over)\n",
    "avg_avg_objective_over"
   ]
  },
  {
   "cell_type": "code",
   "execution_count": 15,
   "metadata": {},
   "outputs": [
    {
     "data": {
      "text/plain": [
       "7.02128"
      ]
     },
     "execution_count": 15,
     "metadata": {},
     "output_type": "execute_result"
    }
   ],
   "source": [
    "avg_avg_wasted_over = mean(avg_wasted_over)\n",
    "avg_avg_wasted_over"
   ]
  },
  {
   "cell_type": "code",
   "execution_count": 16,
   "metadata": {},
   "outputs": [
    {
     "data": {
      "text/plain": [
       "4.280284"
      ]
     },
     "execution_count": 16,
     "metadata": {},
     "output_type": "execute_result"
    }
   ],
   "source": [
    "avg_avg_give_up_over = mean(avg_give_up_over)\n",
    "avg_avg_give_up_over"
   ]
  },
  {
   "cell_type": "code",
   "execution_count": 17,
   "metadata": {},
   "outputs": [
    {
     "data": {
      "text/plain": [
       "7.421996"
      ]
     },
     "execution_count": 17,
     "metadata": {},
     "output_type": "execute_result"
    }
   ],
   "source": [
    "avg_avg_wait_over = mean(avg_wait_over)\n",
    "avg_avg_wait_over"
   ]
  },
  {
   "cell_type": "code",
   "execution_count": 18,
   "metadata": {},
   "outputs": [
    {
     "data": {
      "text/plain": [
       "7.421996"
      ]
     },
     "execution_count": 18,
     "metadata": {},
     "output_type": "execute_result"
    }
   ],
   "source": [
    "avg_avg_slots_created_over = mean(avg_slots_created_over)\n",
    "avg_avg_slots_created_over"
   ]
  },
  {
   "cell_type": "code",
   "execution_count": 217,
   "metadata": {},
   "outputs": [
    {
     "data": {
      "text/plain": [
       "(array([  2.,   4.,   6.,   5.,  20.,  21.,  31.,  60.,  57.,  82.,  81.,\n",
       "         99., 113.,  89., 101.,  86.,  40.,  43.,  24.,  19.,   8.,   6.,\n",
       "          2.,   0.,   1.]),\n",
       " array([-8.4754 , -8.41656, -8.35772, -8.29888, -8.24004, -8.1812 ,\n",
       "        -8.12236, -8.06352, -8.00468, -7.94584, -7.887  , -7.82816,\n",
       "        -7.76932, -7.71048, -7.65164, -7.5928 , -7.53396, -7.47512,\n",
       "        -7.41628, -7.35744, -7.2986 , -7.23976, -7.18092, -7.12208,\n",
       "        -7.06324, -7.0044 ]),\n",
       " <a list of 25 Patch objects>)"
      ]
     },
     "execution_count": 217,
     "metadata": {},
     "output_type": "execute_result"
    },
    {
     "data": {
      "image/png": "[encoded data removed]",
      "text/plain": [
       "<matplotlib.figure.Figure at 0x198d95bee80>"
      ]
     },
     "metadata": {},
     "output_type": "display_data"
    }
   ],
   "source": [
    "plt.hist(avg_objective_over, bins = 25)"
   ]
  },
  {
   "cell_type": "code",
   "execution_count": 219,
   "metadata": {},
   "outputs": [
    {
     "data": {
      "text/plain": [
       "(array([ 3.,  6.,  2.,  7., 17., 34., 24., 35., 58., 55., 70., 82., 98.,\n",
       "        99., 90., 87., 64., 54., 41., 24., 23., 12.,  7.,  5.,  3.]),\n",
       " array([6.896 , 6.9368, 6.9776, 7.0184, 7.0592, 7.1   , 7.1408, 7.1816,\n",
       "        7.2224, 7.2632, 7.304 , 7.3448, 7.3856, 7.4264, 7.4672, 7.508 ,\n",
       "        7.5488, 7.5896, 7.6304, 7.6712, 7.712 , 7.7528, 7.7936, 7.8344,\n",
       "        7.8752, 7.916 ]),\n",
       " <a list of 25 Patch objects>)"
      ]
     },
     "execution_count": 219,
     "metadata": {},
     "output_type": "execute_result"
    },
    {
     "data": {
      "image/png": "[encoded data removed]",
      "text/plain": [
       "<matplotlib.figure.Figure at 0x198dbbe7eb8>"
      ]
     },
     "metadata": {},
     "output_type": "display_data"
    }
   ],
   "source": [
    "plt.hist(avg_wasted_over, bins = 25)\n",
    "plt.hist(avg_give_up_over, bins = 25)\n",
    "plt.hist(avg_wait_over, bins = 25)"
   ]
  },
  {
   "cell_type": "code",
   "execution_count": 299,
   "metadata": {},
   "outputs": [],
   "source": [
    "#Stress Test\n",
    "def SlotSimulator_max(num_patients, sunshine):\n",
    "    slots = []\n",
    "    new_slots = []\n",
    "    waiting = []\n",
    "    for i in range(7):\n",
    "        slots.append(0)\n",
    "\n",
    "    for i in range(9):\n",
    "        waiting.append(0)\n",
    "        new_slots.append(0)\n",
    "    # randomize the slot\n",
    "    i = 0\n",
    "    for i in range(7):\n",
    "        slots[i] = numpy.random.binomial(2, sunshine_array[sunshine][i])\n",
    "    while sum(slots) < num_patients and sum(slots) < 14:\n",
    "        index = random.randint(0,6)\n",
    "        if slots[index] < 2:\n",
    "            slots[index] += 1\n",
    "     \n",
    "    slots_used = 0\n",
    "    slots_used_no_show = 0\n",
    "    total_visit_slots = max(sum(slots), num_patients)\n",
    "    old_slots = []\n",
    "    # who will not show up??\n",
    "    for i in range(7):\n",
    "        tempon = numpy.random.binomial(slots[i], 1)\n",
    "        new_slots[i] = tempon\n",
    "        old_slots.append(tempon)\n",
    "        if slots[i] > 0:\n",
    "            slots_used += 1\n",
    "        if new_slots[i] > 0:\n",
    "            slots_used_no_show += 1\n",
    "        \n",
    "   \n",
    "    slots_no_show = sum(new_slots)\n",
    "    # simulate complete\n",
    "    for i in range(len(new_slots)):\n",
    "        if new_slots[i] >= 1 and waiting[i] == 0:\n",
    "            if i < 8:\n",
    "                waiting[i+1] = new_slots[i] - 1\n",
    "            new_slots[i] = 1\n",
    "        elif new_slots[i] >= 1 and waiting[i] > 0:\n",
    "            if i < 8:\n",
    "                waiting[i+1] = new_slots[i] + waiting[i] - 1\n",
    "            new_slots[i] = 1\n",
    "        elif new_slots[i] == 0 and waiting[i] > 0:\n",
    "            new_slots[i] = 1\n",
    "            if i < 8:\n",
    "                waiting[i+1] = waiting[i] - 1\n",
    "            for j in range(i-2, i+1):\n",
    "                tempo = waiting[j] - 1\n",
    "                waiting[j] = max(0, tempo)\n",
    "                \n",
    "        # after waiting one hour patients will reschedule\n",
    "        if i >= 2 and i < 8 and waiting[i-2] > 0:\n",
    "            temp = waiting[i+1] - waiting[i-2]\n",
    "            waiting[i+1] = max(0, temp)\n",
    "            for j in range(i-2,i):\n",
    "                temp2 = waiting[j] - waiting[i-2]\n",
    "                waiting[j] = max(0, temp2)\n",
    "        \n",
    "    slot_potential_wasted = slots_used - slots_used_no_show\n",
    "    give_up = slots_no_show - sum(new_slots)\n",
    "    wait_only_one_time = sum(new_slots) - slots_used_no_show\n",
    "    loss_prevented = sum(new_slots) - slots_used_no_show\n",
    "\n",
    "    return [slot_potential_wasted, give_up, wait_only_one_time, loss_prevented]   "
   ]
  },
  {
   "cell_type": "code",
   "execution_count": 316,
   "metadata": {},
   "outputs": [],
   "source": [
    "objective_over_max = []\n",
    "resources_wasted_over_max = [] #due to no show patients (captured by diff between potential slot used and actual used)\n",
    "available_slots_over_max = [] #more patients coming to clinic = more patients need to reschedule\n",
    "objective_func_over_max = [-1, -1.5, -0.25, -0.6, -0.15, 0.5]\n",
    "# -1: no show (slot-wise), -0.4: waiting too long to reschedule, -0.2: waiting just for one slot, 0: no waiting\n",
    "# -0.6: too packed (worst case), -0.15 : ok packed, 0: no packed, 0.6: slot created by letting patients wait\n",
    "\n",
    "for iteration in range(1):\n",
    "    day = 0\n",
    "    temp_objective_over_max = []\n",
    "    temp_resources_wasted_over_max = []\n",
    "    temp_available_slots_over_max = []\n",
    "    \n",
    "    while day < intervals:\n",
    "        patients_visit = 14 * 4 * 2\n",
    "        \n",
    "        #randomize each slot to \"therapist\" (notice: therapists in this case is not just one, but share the same slots)\n",
    "        therapists_patients = []\n",
    "        patients_per_therapist = int(patients_visit / num_therapists)\n",
    "        for i in range(num_therapists):\n",
    "            therapists_patients.append(patients_per_therapist)\n",
    "                     \n",
    "        #slots are divided by 2 section: morning and afternoon\n",
    "        # for each morning and afternoon, there are 7 slots (8-11:30, 1-4:30) and 2 open slots (11:30~12:30 and 4:30~5:30)\n",
    "        slots_wasted = 0\n",
    "        patients_give_up = 0\n",
    "        patients_wait_one_time = 0\n",
    "        slots_created = 0\n",
    "        ys = []\n",
    "        for therapist in range(len(therapists_patients)):\n",
    "            visit_morning = int(therapists_patients[therapist] / 2)\n",
    "            visit_afternoon = therapists_patients[therapist] - visit_morning \n",
    "           \n",
    "            morning_result_therapist = SlotSimulator_max(visit_morning, 0)\n",
    "            afternoon_result_therapist = SlotSimulator_max(visit_afternoon, 1)\n",
    "            \n",
    "            slots_wasted += morning_result_therapist[0] + afternoon_result_therapist[0]\n",
    "            patients_give_up += morning_result_therapist[1] + afternoon_result_therapist[1]\n",
    "            patients_wait_one_time += morning_result_therapist[2] + afternoon_result_therapist[2]\n",
    "            ys.append(visit_morning + visit_afternoon - 14)\n",
    "            slots_created += morning_result_therapist[3] + afternoon_result_therapist[3]\n",
    "        \n",
    "        ok_packed = 0\n",
    "        too_packed = 0\n",
    "        for y in range(len(ys)):\n",
    "            if y > 0 and y <= 2:\n",
    "                ok_packed += 1\n",
    "            elif y > 2:\n",
    "                too_packed += 1\n",
    "        \n",
    "        result = [slots_wasted, patients_give_up, patients_wait_one_time, too_packed, ok_packed, slots_created]\n",
    "        obj_result = 0\n",
    "        for i in range(len(objective_func_over)):\n",
    "            obj_result += objective_func_over_max[i] * result[i]\n",
    "                   \n",
    "        temp_objective_over_max.append(obj_result)\n",
    "        available_slots_over_max.append(patients_give_up)\n",
    "        day = day + 1\n",
    "    objective_over_max.append(temp_objective_over_max)\n",
    "        "
   ]
  },
  {
   "cell_type": "code",
   "execution_count": 304,
   "metadata": {},
   "outputs": [],
   "source": [
    "avg_objective_over_max = []\n",
    "for iter in range(1):\n",
    "    avg_objective_over_max.append(mean(objective_over_max[iter]))"
   ]
  },
  {
   "cell_type": "code",
   "execution_count": 317,
   "metadata": {},
   "outputs": [
    {
     "data": {
      "text/plain": [
       "[56,\n",
       " 56,\n",
       " 56,\n",
       " 56,\n",
       " 56,\n",
       " 56,\n",
       " 56,\n",
       " 56,\n",
       " 56,\n",
       " 56,\n",
       " 56,\n",
       " 56,\n",
       " 56,\n",
       " 56,\n",
       " 56,\n",
       " 56,\n",
       " 56,\n",
       " 56,\n",
       " 56,\n",
       " 56,\n",
       " 56,\n",
       " 56,\n",
       " 56,\n",
       " 56,\n",
       " 56,\n",
       " 56,\n",
       " 56,\n",
       " 56,\n",
       " 56,\n",
       " 56,\n",
       " 56,\n",
       " 56,\n",
       " 56,\n",
       " 56,\n",
       " 56,\n",
       " 56,\n",
       " 56,\n",
       " 56,\n",
       " 56,\n",
       " 56,\n",
       " 56,\n",
       " 56,\n",
       " 56,\n",
       " 56,\n",
       " 56,\n",
       " 56,\n",
       " 56,\n",
       " 56,\n",
       " 56,\n",
       " 56,\n",
       " 56,\n",
       " 56,\n",
       " 56,\n",
       " 56,\n",
       " 56,\n",
       " 56,\n",
       " 56,\n",
       " 56,\n",
       " 56,\n",
       " 56,\n",
       " 56,\n",
       " 56,\n",
       " 56,\n",
       " 56,\n",
       " 56,\n",
       " 56,\n",
       " 56,\n",
       " 56,\n",
       " 56,\n",
       " 56,\n",
       " 56,\n",
       " 56,\n",
       " 56,\n",
       " 56,\n",
       " 56,\n",
       " 56,\n",
       " 56,\n",
       " 56,\n",
       " 56,\n",
       " 56,\n",
       " 56,\n",
       " 56,\n",
       " 56,\n",
       " 56,\n",
       " 56,\n",
       " 56,\n",
       " 56,\n",
       " 56,\n",
       " 56,\n",
       " 56,\n",
       " 56,\n",
       " 56,\n",
       " 56,\n",
       " 56,\n",
       " 56,\n",
       " 56,\n",
       " 56,\n",
       " 56,\n",
       " 56,\n",
       " 56,\n",
       " 56,\n",
       " 56,\n",
       " 56,\n",
       " 56,\n",
       " 56,\n",
       " 56,\n",
       " 56,\n",
       " 56,\n",
       " 56,\n",
       " 56,\n",
       " 56,\n",
       " 56,\n",
       " 56,\n",
       " 56,\n",
       " 56,\n",
       " 56,\n",
       " 56,\n",
       " 56,\n",
       " 56,\n",
       " 56,\n",
       " 56,\n",
       " 56,\n",
       " 56,\n",
       " 56,\n",
       " 56,\n",
       " 56,\n",
       " 56,\n",
       " 56,\n",
       " 56,\n",
       " 56,\n",
       " 56,\n",
       " 56,\n",
       " 56,\n",
       " 56,\n",
       " 56,\n",
       " 56,\n",
       " 56,\n",
       " 56,\n",
       " 56,\n",
       " 56,\n",
       " 56,\n",
       " 56,\n",
       " 56,\n",
       " 56,\n",
       " 56,\n",
       " 56,\n",
       " 56,\n",
       " 56,\n",
       " 56,\n",
       " 56,\n",
       " 56,\n",
       " 56,\n",
       " 56,\n",
       " 56,\n",
       " 56,\n",
       " 56,\n",
       " 56,\n",
       " 56,\n",
       " 56,\n",
       " 56,\n",
       " 56,\n",
       " 56,\n",
       " 56,\n",
       " 56,\n",
       " 56,\n",
       " 56,\n",
       " 56,\n",
       " 56,\n",
       " 56,\n",
       " 56,\n",
       " 56,\n",
       " 56,\n",
       " 56,\n",
       " 56,\n",
       " 56,\n",
       " 56,\n",
       " 56,\n",
       " 56,\n",
       " 56,\n",
       " 56,\n",
       " 56,\n",
       " 56,\n",
       " 56,\n",
       " 56,\n",
       " 56,\n",
       " 56,\n",
       " 56,\n",
       " 56,\n",
       " 56,\n",
       " 56,\n",
       " 56,\n",
       " 56,\n",
       " 56,\n",
       " 56,\n",
       " 56,\n",
       " 56,\n",
       " 56,\n",
       " 56,\n",
       " 56,\n",
       " 56,\n",
       " 56,\n",
       " 56,\n",
       " 56,\n",
       " 56,\n",
       " 56,\n",
       " 56,\n",
       " 56,\n",
       " 56,\n",
       " 56,\n",
       " 56,\n",
       " 56,\n",
       " 56,\n",
       " 56,\n",
       " 56,\n",
       " 56,\n",
       " 56,\n",
       " 56,\n",
       " 56,\n",
       " 56,\n",
       " 56,\n",
       " 56,\n",
       " 56,\n",
       " 56,\n",
       " 56,\n",
       " 56,\n",
       " 56,\n",
       " 56,\n",
       " 56,\n",
       " 56,\n",
       " 56,\n",
       " 56,\n",
       " 56,\n",
       " 56,\n",
       " 56,\n",
       " 56,\n",
       " 56,\n",
       " 56,\n",
       " 56,\n",
       " 56,\n",
       " 56,\n",
       " 56,\n",
       " 56,\n",
       " 56,\n",
       " 56,\n",
       " 56,\n",
       " 56,\n",
       " 56,\n",
       " 56,\n",
       " 56,\n",
       " 56]"
      ]
     },
     "execution_count": 317,
     "metadata": {},
     "output_type": "execute_result"
    }
   ],
   "source": [
    "available_slots_over_max"
   ]
  },
  {
   "cell_type": "code",
   "execution_count": 305,
   "metadata": {},
   "outputs": [
    {
     "data": {
      "text/plain": [
       "-84.89999999999999"
      ]
     },
     "execution_count": 305,
     "metadata": {},
     "output_type": "execute_result"
    }
   ],
   "source": [
    "avg_avg_objective_over_max = mean(avg_objective_over_max)\n",
    "avg_avg_objective_over_max"
   ]
  },
  {
   "cell_type": "markdown",
   "metadata": {},
   "source": [
    "Fee on Frequent System"
   ]
  },
  {
   "cell_type": "code",
   "execution_count": 20,
   "metadata": {},
   "outputs": [],
   "source": [
    "objective_freq = []\n",
    "resources_wasted_freq = [] #by no show\n",
    "objective_func_freq = [-1, -0.5, -0.3, 1] \n",
    "\n",
    "for iteration in range(iterations):\n",
    "    day = 0\n",
    "    temp_objective_freq = []\n",
    "    temp_resources_wasted_freq = []\n",
    "    \n",
    "    while day < intervals:\n",
    "        no_show_rate = numpy.random.normal(loc=0.2685272, scale=0.09121678, size=1)[0]\n",
    "        patients_visit = int(numpy.random.normal(62.476, scale=16.72728))\n",
    "        if no_show_rate < min_rate:\n",
    "             no_show_rate = min_rate\n",
    "        if patients_visit < 40:\n",
    "            patients_visit = 40\n",
    "        patients_show = int(numpy.random.binomial(patients_visit, 1 - no_show_rate) + 0.5)\n",
    "        patients_no_show = patients_visit - patients_show\n",
    "        \n",
    "        patients_no_show_freq = int(numpy.random.binomial(patients_no_show, 0.379822) + 0.5)\n",
    "        \n",
    "        patients_not_showing = int(numpy.random.binomial(patients_no_show_freq, 0.3478166) + 0.5)\n",
    "        patients_late_cancel = patients_no_show_freq - patients_not_showing\n",
    "\n",
    "        #Assumption: late cancellation and no show will treats the same, \n",
    "        #but when they did not show up second time, there will be different fee imposed on late cancel and no show\n",
    "        #data shows that the difference between no show rate before and after fee system is 0.3% -- statistically insignificant\n",
    "        force_rate = 0.0028462 * 3 \n",
    "        #from potential no show patients to come to the appointment\n",
    "        #if some patient did not show up, they have pressure to show up next!\n",
    "        late_cancel_rate = 0.02260969 * 30 / 25\n",
    "        # patients who will not show up will now consider late cancellation as option to save money (would be same)\n",
    "\n",
    "        patients_changing_mind = int(numpy.random.binomial(patients_no_show, force_rate) + 0.5)\n",
    "        patients_changing_late = int(numpy.random.binomial(patients_not_showing, late_cancel_rate) + 0.5)\n",
    "\n",
    "        patients_no_show = patients_no_show - patients_changing_mind\n",
    "        patients_not_showing -= patients_changing_late - patients_changing_mind\n",
    "        patients_late_cancel += patients_changing_late\n",
    "        \n",
    "        result = [patients_no_show, patients_not_showing, patients_late_cancel, patients_changing_mind]\n",
    "        \n",
    "        obj_result = 0\n",
    "        for i in range(len(result)):\n",
    "            obj_result += objective_func_freq[i] * result[i]\n",
    "        temp_resources_wasted_freq.append(result)\n",
    "        temp_objective_freq.append(obj_result)\n",
    "        \n",
    "        day = day + 1\n",
    "   \n",
    "    objective_freq.append(temp_objective_freq)\n",
    "    resources_wasted_freq.append(temp_resources_wasted_freq)\n",
    "    \n",
    "    "
   ]
  },
  {
   "cell_type": "code",
   "execution_count": 21,
   "metadata": {},
   "outputs": [],
   "source": [
    "avg_objective_freq = []\n",
    "avg_no_show_freq = []\n",
    "avg_not_showing_freq = []\n",
    "avg_late_cancel_freq = []\n",
    "avg_changing_mind_freq = []\n",
    "for iter in range(iterations):\n",
    "    avg_objective_freq.append(mean(objective_freq[iter]))\n",
    "    sum_patients_no_show = 0\n",
    "    sum_patients_not_showing = 0\n",
    "    sum_patients_late_cancel = 0\n",
    "    sum_patients_changing_mind = 0\n",
    "    for j in range(intervals):\n",
    "        sum_patients_no_show += resources_wasted_freq[iter][j][0]\n",
    "        sum_patients_not_showing += resources_wasted_freq[iter][j][1]\n",
    "        sum_patients_late_cancel += resources_wasted_freq[iter][j][2]\n",
    "        sum_patients_changing_mind += resources_wasted_freq[iter][j][3]\n",
    "    avg_no_show_freq.append(sum_patients_no_show / intervals)\n",
    "    avg_not_showing_freq.append(sum_patients_not_showing / intervals)\n",
    "    avg_late_cancel_freq.append(sum_patients_late_cancel / intervals)\n",
    "    avg_changing_mind_freq.append(sum_patients_changing_mind / intervals)"
   ]
  },
  {
   "cell_type": "code",
   "execution_count": 22,
   "metadata": {},
   "outputs": [
    {
     "data": {
      "text/plain": [
       "0.5472514437648407"
      ]
     },
     "execution_count": 22,
     "metadata": {},
     "output_type": "execute_result"
    }
   ],
   "source": [
    "avg_avg_objective_freq = mean(avg_objective_freq)\n",
    "avg_avg_objective_freq\n",
    "stdev(avg_objective_freq)"
   ]
  },
  {
   "cell_type": "code",
   "execution_count": 23,
   "metadata": {},
   "outputs": [
    {
     "data": {
      "text/plain": [
       "16.819064"
      ]
     },
     "execution_count": 23,
     "metadata": {},
     "output_type": "execute_result"
    }
   ],
   "source": [
    "avg_avg_no_show_freq = mean(avg_no_show_freq)\n",
    "avg_avg_no_show_freq"
   ]
  },
  {
   "cell_type": "code",
   "execution_count": 24,
   "metadata": {},
   "outputs": [
    {
     "data": {
      "text/plain": [
       "2.323288"
      ]
     },
     "execution_count": 24,
     "metadata": {},
     "output_type": "execute_result"
    }
   ],
   "source": [
    "avg_avg_not_showing_freq = mean(avg_not_showing_freq)\n",
    "avg_avg_not_showing_freq"
   ]
  },
  {
   "cell_type": "code",
   "execution_count": 25,
   "metadata": {},
   "outputs": [
    {
     "data": {
      "text/plain": [
       "4.27524"
      ]
     },
     "execution_count": 25,
     "metadata": {},
     "output_type": "execute_result"
    }
   ],
   "source": [
    "avg_avg_late_cancel_freq = mean(avg_late_cancel_freq)\n",
    "avg_avg_late_cancel_freq"
   ]
  },
  {
   "cell_type": "code",
   "execution_count": 26,
   "metadata": {},
   "outputs": [
    {
     "data": {
      "text/plain": [
       "0.14404"
      ]
     },
     "execution_count": 26,
     "metadata": {},
     "output_type": "execute_result"
    }
   ],
   "source": [
    "avg_avg_changing_mind_freq= mean(avg_changing_mind_freq)\n",
    "avg_avg_changing_mind_freq"
   ]
  },
  {
   "cell_type": "code",
   "execution_count": 67,
   "metadata": {},
   "outputs": [
    {
     "data": {
      "text/plain": [
       "(array([  2.,   3.,   2.,  11.,  13.,  34.,  42.,  66.,  51.,  93.,  94.,\n",
       "        107.,  79.,  97.,  72.,  66.,  57.,  36.,  34.,  19.,  10.,   7.,\n",
       "          3.,   1.,   1.]),\n",
       " array([-20.8036  , -20.663952, -20.524304, -20.384656, -20.245008,\n",
       "        -20.10536 , -19.965712, -19.826064, -19.686416, -19.546768,\n",
       "        -19.40712 , -19.267472, -19.127824, -18.988176, -18.848528,\n",
       "        -18.70888 , -18.569232, -18.429584, -18.289936, -18.150288,\n",
       "        -18.01064 , -17.870992, -17.731344, -17.591696, -17.452048,\n",
       "        -17.3124  ]),\n",
       " <a list of 25 Patch objects>)"
      ]
     },
     "execution_count": 67,
     "metadata": {},
     "output_type": "execute_result"
    },
    {
     "data": {
      "image/png": "[encoded data removed]",
      "text/plain": [
       "<matplotlib.figure.Figure at 0x198d5d92ba8>"
      ]
     },
     "metadata": {},
     "output_type": "display_data"
    }
   ],
   "source": [
    "plt.hist(avg_objective_freq, bins = 25)"
   ]
  },
  {
   "cell_type": "code",
   "execution_count": 231,
   "metadata": {},
   "outputs": [
    {
     "data": {
      "text/plain": [
       "(array([  1.,   2.,   1.,  14.,  23.,  22.,  55.,  72.,  51., 127., 142.,\n",
       "         51., 122.,  45.,  85.,  69.,  23.,  38.,  25.,   9.,  14.,   2.,\n",
       "          2.,   2.,   3.]),\n",
       " array([0.068  , 0.07456, 0.08112, 0.08768, 0.09424, 0.1008 , 0.10736,\n",
       "        0.11392, 0.12048, 0.12704, 0.1336 , 0.14016, 0.14672, 0.15328,\n",
       "        0.15984, 0.1664 , 0.17296, 0.17952, 0.18608, 0.19264, 0.1992 ,\n",
       "        0.20576, 0.21232, 0.21888, 0.22544, 0.232  ]),\n",
       " <a list of 25 Patch objects>)"
      ]
     },
     "execution_count": 231,
     "metadata": {},
     "output_type": "execute_result"
    },
    {
     "data": {
      "image/png": "[encoded data removed]",
      "text/plain": [
       "<matplotlib.figure.Figure at 0x198dbcee9e8>"
      ]
     },
     "metadata": {},
     "output_type": "display_data"
    }
   ],
   "source": [
    "plt.hist(avg_no_show_freq, bins = 25)\n",
    "plt.hist(avg_not_showing_freq, bins = 25)\n",
    "plt.hist(avg_late_cancel_freq, bins = 25)\n",
    "plt.hist(avg_changing_mind_freq, bins = 25)"
   ]
  },
  {
   "cell_type": "code",
   "execution_count": 74,
   "metadata": {},
   "outputs": [],
   "source": [
    "#Stress Test\n",
    "objective_freq_max = []\n",
    "resources_wasted_freq_max = [] #by no show\n",
    "objective_func_freq_max = [-1, -0.5, -0.3, 1] \n",
    "\n",
    "for iteration in range(iterations):\n",
    "    day = 0\n",
    "    temp_objective_freq_max = []\n",
    "    temp_resources_wasted_freq_max = []\n",
    "    \n",
    "    while day < intervals:\n",
    "        no_show_rate = numpy.random.normal(loc=0.2685272, scale=0.09121678, size=1)[0]\n",
    "        patients_visit = 4 * 9 * 2\n",
    "        if no_show_rate < min_rate:\n",
    "             no_show_rate = min_rate\n",
    "        if patients_visit < 40:\n",
    "            patients_visit = 40\n",
    "        patients_show = int(numpy.random.binomial(patients_visit, 1 - no_show_rate) + 0.5)\n",
    "        patients_no_show = patients_visit - patients_show\n",
    "        \n",
    "        patients_no_show_freq = int(numpy.random.binomial(patients_no_show, 0.379822) + 0.5)\n",
    "        \n",
    "        patients_not_showing = int(numpy.random.binomial(patients_no_show_freq, 0.3478166) + 0.5)\n",
    "        patients_late_cancel = patients_no_show_freq - patients_not_showing\n",
    "\n",
    "        #Assumption: late cancellation and no show will treats the same, \n",
    "        #but when they did not show up second time, there will be different fee imposed on late cancel and no show\n",
    "        #data shows that the difference between no show rate before and after fee system is 0.3% -- statistically insignificant\n",
    "        force_rate = 0.0028462 * 3 \n",
    "        #from potential no show patients to come to the appointment\n",
    "        #if some patient did not show up, they have pressure to show up next!\n",
    "        late_cancel_rate = 0.02260969 * 30 / 25\n",
    "        # patients who will not show up will now consider late cancellation as option to save money (would be same)\n",
    "\n",
    "        patients_changing_mind = int(numpy.random.binomial(patients_no_show, force_rate) + 0.5)\n",
    "        patients_changing_late = int(numpy.random.binomial(patients_not_showing, late_cancel_rate) + 0.5)\n",
    "\n",
    "        patients_no_show = patients_no_show - patients_changing_mind\n",
    "        patients_not_showing -= patients_changing_late - patients_changing_mind\n",
    "        patients_late_cancel += patients_changing_late\n",
    "        \n",
    "        result = [patients_no_show, patients_not_showing, patients_late_cancel, patients_changing_mind]\n",
    "        \n",
    "        obj_result = 0\n",
    "        for i in range(len(result)):\n",
    "            obj_result += objective_func_freq[i] * result[i]\n",
    "        temp_resources_wasted_freq_max.append(result)\n",
    "        temp_objective_freq_max.append(obj_result)\n",
    "        \n",
    "        day = day + 1\n",
    "   \n",
    "    objective_freq_max.append(temp_objective_freq_max)\n",
    "    resources_wasted_freq_max.append(temp_resources_wasted_freq_max)\n",
    "    \n",
    "    \n"
   ]
  },
  {
   "cell_type": "code",
   "execution_count": 75,
   "metadata": {},
   "outputs": [],
   "source": [
    "avg_objective_freq_max = []\n",
    "for iter in range(iterations):\n",
    "    avg_objective_freq_max.append(mean(objective_freq_max[iter]))"
   ]
  },
  {
   "cell_type": "code",
   "execution_count": 76,
   "metadata": {},
   "outputs": [
    {
     "data": {
      "text/plain": [
       "-21.9410208"
      ]
     },
     "execution_count": 76,
     "metadata": {},
     "output_type": "execute_result"
    }
   ],
   "source": [
    "avg_avg_objective_freq_max = mean(avg_objective_freq_max)\n",
    "avg_avg_objective_freq_max"
   ]
  },
  {
   "cell_type": "code",
   "execution_count": 77,
   "metadata": {},
   "outputs": [
    {
     "data": {
      "text/plain": [
       "(array([  2.,   6.,   8.,  14.,  15.,  31.,  40.,  64.,  70.,  93., 111.,\n",
       "         97., 107.,  83.,  82.,  63.,  39.,  23.,  22.,  15.,   5.,   5.,\n",
       "          2.,   2.,   1.]),\n",
       " array([-23.4572  , -23.325424, -23.193648, -23.061872, -22.930096,\n",
       "        -22.79832 , -22.666544, -22.534768, -22.402992, -22.271216,\n",
       "        -22.13944 , -22.007664, -21.875888, -21.744112, -21.612336,\n",
       "        -21.48056 , -21.348784, -21.217008, -21.085232, -20.953456,\n",
       "        -20.82168 , -20.689904, -20.558128, -20.426352, -20.294576,\n",
       "        -20.1628  ]),\n",
       " <a list of 25 Patch objects>)"
      ]
     },
     "execution_count": 77,
     "metadata": {},
     "output_type": "execute_result"
    },
    {
     "data": {
      "image/png": "[encoded data removed]",
      "text/plain": [
       "<matplotlib.figure.Figure at 0x198d7b89748>"
      ]
     },
     "metadata": {},
     "output_type": "display_data"
    }
   ],
   "source": [
    "plt.hist(avg_objective_freq_max, bins = 25)"
   ]
  },
  {
   "cell_type": "markdown",
   "metadata": {},
   "source": [
    "Mixed Overboooking System"
   ]
  },
  {
   "cell_type": "markdown",
   "metadata": {},
   "source": [
    "Mixture of double booking allowed in limited time and single booking otherwise:\n",
    "Morning: 8:00~10:30 double booking, 10:30~12:30 single booking\n",
    "Afternoon: 1:00~3:30 double booking, 3:30-5:30 single booking"
   ]
  },
  {
   "cell_type": "code",
   "execution_count": 27,
   "metadata": {},
   "outputs": [],
   "source": [
    "sunshine_array2 = []\n",
    "sunshine_morning = [0.07335211, 0.07966197, 0.15966197, 0.11729577, 0.14783099, 0.10929577, 0.13791549, 0.13577465, 0.03921127]\n",
    "sunshine_afternoon = [0.06945245, 0.07089337, 0.14164265, 0.21801153, 0.12463977, 0.15389049, 0.15720461, 0.04293948, 0.02132565]\n",
    "sunshine_array2.append(sunshine_morning)\n",
    "sunshine_array2.append(sunshine_afternoon)"
   ]
  },
  {
   "cell_type": "code",
   "execution_count": 28,
   "metadata": {},
   "outputs": [],
   "source": [
    "def SlotSimulator_mixed(num_patients, sunshine):\n",
    "    slots = []\n",
    "    new_slots = []\n",
    "    waiting = []  \n",
    "\n",
    "    for i in range(9):\n",
    "        slots.append(0)\n",
    "        waiting.append(0)\n",
    "        new_slots.append(0)\n",
    "        \n",
    "    # randomize the slot\n",
    "    i = 0\n",
    "    for i in range(5):\n",
    "        slots[i] = numpy.random.binomial(2, sunshine_array2[sunshine][i])\n",
    "    for i in range(5,9):\n",
    "        slots[i] = numpy.random.binomial(1, sunshine_array2[sunshine][i])\n",
    "    while sum(slots) < num_patients and sum(slots) < 14:\n",
    "        index = random.randint(0,8)\n",
    "        if slots[index] < 2 and index < 5:\n",
    "            slots[index] += 1\n",
    "        elif slots[index] < 1 and index >= 5 and index < 9:\n",
    "            slots[index] += 1\n",
    "    slots_used = 0\n",
    "    slots_used_no_show = 0\n",
    "    total_visit_slots = max(sum(slots), num_patients)\n",
    "    old_slots = []\n",
    "    # who will not show up??\n",
    "    for i in range(7):\n",
    "        tempon = numpy.random.binomial(slots[i], 1 - no_show_rate)\n",
    "        new_slots[i] = tempon\n",
    "        old_slots.append(tempon)\n",
    "        if slots[i] > 0:\n",
    "            slots_used += 1\n",
    "        if new_slots[i] > 0:\n",
    "            slots_used_no_show += 1\n",
    "        \n",
    "   \n",
    "    slots_no_show = sum(new_slots)\n",
    "    # simulate complete\n",
    "    for i in range(len(new_slots)):\n",
    "        if new_slots[i] >= 1 and waiting[i] == 0:\n",
    "            if i < 8:\n",
    "                waiting[i+1] = new_slots[i] - 1\n",
    "            new_slots[i] = 1\n",
    "        elif new_slots[i] >= 1 and waiting[i] > 0:\n",
    "            if i < 8:\n",
    "                waiting[i+1] = new_slots[i] + waiting[i] - 1\n",
    "            new_slots[i] = 1\n",
    "        elif new_slots[i] == 0 and waiting[i] > 0:\n",
    "            new_slots[i] = 1\n",
    "            if i < 8:\n",
    "                waiting[i+1] = waiting[i] - 1\n",
    "            for j in range(i-2, i+1):\n",
    "                tempo = waiting[j] - 1\n",
    "                waiting[j] = max(0, tempo)\n",
    "                \n",
    "        # after waiting one hour patients will reschedule\n",
    "        if i >= 2 and i < 8 and waiting[i-2] > 0:\n",
    "            temp = waiting[i+1] - waiting[i-2]\n",
    "            waiting[i+1] = max(0, temp)\n",
    "            for j in range(i-2,i):\n",
    "                temp2 = waiting[j] - waiting[i-2]\n",
    "                waiting[j] = max(0, temp2)\n",
    "        \n",
    "    slot_potential_wasted = slots_used - slots_used_no_show\n",
    "    give_up = slots_no_show - sum(new_slots)\n",
    "    wait_only_one_time = sum(new_slots) - slots_used_no_show\n",
    "    loss_prevented = sum(new_slots) - slots_used_no_show\n",
    "\n",
    "    return [slot_potential_wasted, give_up, wait_only_one_time, loss_prevented]   "
   ]
  },
  {
   "cell_type": "code",
   "execution_count": 29,
   "metadata": {},
   "outputs": [],
   "source": [
    "objective_mixed = []\n",
    "resources_wasted_mixed = []\n",
    "available_slots_mixed = []\n",
    "objective_func_mixed = [-1, -1.5, -0.25, -0.6, -0.15, 0.5]\n",
    "# -1: no show (slot-wise), -0.4: waiting too long to reschedule, -0.2: waiting just for one slot, 0: no waiting\n",
    "# -0.6: too packed (worst case), -0.15 : ok packed, 0: no packed, 0.6: slot created by letting patients wait\n",
    "\n",
    "\n",
    "for iteration in range(iterations):\n",
    "    day = 0\n",
    "    temp_objective_mixed = []\n",
    "    temp_resources_wasted_mixed = []\n",
    "    temp_available_slots_mixed = []\n",
    "    \n",
    "    while day < intervals:\n",
    "        no_show_rate = numpy.random.normal(loc=0.2685272, scale=0.09121678, size=1)[0]\n",
    "        patients_visit = int(numpy.random.normal(62.476, scale=16.72728))\n",
    "        if no_show_rate < min_rate:\n",
    "             no_show_rate = min_rate\n",
    "        if patients_visit < 40:\n",
    "            patients_visit = 40\n",
    "        \n",
    "        therapists_patients = []\n",
    "        patients_per_therapist = int(patients_visit / num_therapists)\n",
    "        for i in range(num_therapists):\n",
    "            therapists_patients.append(patients_per_therapist)\n",
    "        i = 0\n",
    "        while sum(therapists_patients) < patients_visit:\n",
    "            therapists_patients[i] += 1\n",
    "            i += 1\n",
    "        \n",
    "        slots_wasted = 0\n",
    "        patients_give_up = 0\n",
    "        patients_wait_one_time = 0\n",
    "        slots_created = 0\n",
    "        ys = []\n",
    "        \n",
    "        for therapist in range(len(therapists_patients)):\n",
    "            visit_morning = int(therapists_patients[therapist] / 2 + 2.52)\n",
    "            visit_afternoon = therapists_patients[therapist] - visit_morning \n",
    "           \n",
    "            morning_result_therapist = SlotSimulator_mixed(visit_morning, 0)\n",
    "            afternoon_result_therapist = SlotSimulator_mixed(visit_afternoon, 1)\n",
    "            \n",
    "            slots_wasted += morning_result_therapist[0] + afternoon_result_therapist[0]\n",
    "            patients_give_up += morning_result_therapist[1] + afternoon_result_therapist[1]\n",
    "            patients_wait_one_time += morning_result_therapist[2] + afternoon_result_therapist[2]\n",
    "            ys.append(visit_morning + visit_afternoon - 14)\n",
    "            \n",
    "            slots_created += morning_result_therapist[3] + afternoon_result_therapist[3]\n",
    "        \n",
    "        ok_packed = 0\n",
    "        too_packed = 0\n",
    "        for y in range(len(ys)):\n",
    "            if y > 0 and y <= 2:\n",
    "                ok_packed += 1\n",
    "            elif y > 2:\n",
    "                too_packed += 1\n",
    "            \n",
    "        ok_packed = 0\n",
    "        too_packed = 0\n",
    "        for y in range(len(ys)):\n",
    "            if y > 0 and y <= 2:\n",
    "                ok_packed += 1\n",
    "            elif y > 2:\n",
    "                too_packed += 1\n",
    "        \n",
    "        result = [slots_wasted, patients_give_up, patients_wait_one_time, too_packed, ok_packed, slots_created]\n",
    "        obj_result = 0\n",
    "        for i in range(len(objective_func_over)):\n",
    "            obj_result += objective_func_mixed[i] * result[i]\n",
    "        \n",
    "        temp_objective_mixed.append(obj_result) \n",
    "        temp_resources_wasted_mixed.append([slots_wasted, too_packed, ok_packed])\n",
    "        temp_available_slots_mixed.append([patients_give_up, patients_wait_one_time])\n",
    "        day = day + 1\n",
    "\n",
    "    objective_mixed.append(temp_objective_mixed)\n",
    "    resources_wasted_mixed.append(temp_resources_wasted_mixed)\n",
    "    available_slots_mixed.append(temp_available_slots_mixed)\n",
    "        \n",
    "    "
   ]
  },
  {
   "cell_type": "code",
   "execution_count": 30,
   "metadata": {},
   "outputs": [],
   "source": [
    "avg_objective_mixed = []\n",
    "avg_wasted_mixed = []\n",
    "avg_give_up_mixed = []\n",
    "avg_wait_mixed = []\n",
    "for iter in range(iterations):\n",
    "    avg_objective_mixed.append(mean(objective_mixed[iter]))\n",
    "    sum_wasted = 0\n",
    "    sum_give_up = 0\n",
    "    sum_wait = 0\n",
    "    for j in range(intervals):\n",
    "        sum_wasted += resources_wasted_mixed[iter][j][0]\n",
    "        sum_give_up += available_slots_mixed[iter][j][0]\n",
    "        sum_wait += available_slots_mixed[iter][j][1]\n",
    "    avg_wasted_mixed.append(sum_wasted / intervals)\n",
    "    avg_give_up_mixed.append(sum_give_up / intervals)\n",
    "    avg_wait_mixed.append(sum_wait / intervals)"
   ]
  },
  {
   "cell_type": "code",
   "execution_count": 31,
   "metadata": {},
   "outputs": [
    {
     "data": {
      "text/plain": [
       "-11.296646"
      ]
     },
     "execution_count": 31,
     "metadata": {},
     "output_type": "execute_result"
    }
   ],
   "source": [
    "avg_avg_objective_mixed = mean(avg_objective_mixed)\n",
    "avg_avg_objective_mixed"
   ]
  },
  {
   "cell_type": "code",
   "execution_count": 32,
   "metadata": {},
   "outputs": [
    {
     "data": {
      "text/plain": [
       "7.801604"
      ]
     },
     "execution_count": 32,
     "metadata": {},
     "output_type": "execute_result"
    }
   ],
   "source": [
    "avg_avg_wasted_mixed = mean(avg_wasted_mixed)\n",
    "avg_avg_wasted_mixed"
   ]
  },
  {
   "cell_type": "code",
   "execution_count": 33,
   "metadata": {},
   "outputs": [
    {
     "data": {
      "text/plain": [
       "2.576856"
      ]
     },
     "execution_count": 33,
     "metadata": {},
     "output_type": "execute_result"
    }
   ],
   "source": [
    "avg_avg_give_up_mixed = mean(avg_give_up_mixed)\n",
    "avg_avg_give_up_mixed"
   ]
  },
  {
   "cell_type": "code",
   "execution_count": 34,
   "metadata": {},
   "outputs": [
    {
     "data": {
      "text/plain": [
       "5.080968"
      ]
     },
     "execution_count": 34,
     "metadata": {},
     "output_type": "execute_result"
    }
   ],
   "source": [
    "avg_avg_wait_mixed = mean(avg_wait_mixed)\n",
    "avg_avg_wait_mixed"
   ]
  },
  {
   "cell_type": "code",
   "execution_count": 265,
   "metadata": {},
   "outputs": [
    {
     "data": {
      "text/plain": [
       "(array([  3.,   2.,   6.,   7.,  11.,  18.,  36.,  54.,  73.,  89., 103.,\n",
       "        100., 109., 101.,  92.,  74.,  48.,  34.,  22.,   6.,   6.,   4.,\n",
       "          1.,   0.,   1.]),\n",
       " array([-9.245  , -9.17896, -9.11292, -9.04688, -8.98084, -8.9148 ,\n",
       "        -8.84876, -8.78272, -8.71668, -8.65064, -8.5846 , -8.51856,\n",
       "        -8.45252, -8.38648, -8.32044, -8.2544 , -8.18836, -8.12232,\n",
       "        -8.05628, -7.99024, -7.9242 , -7.85816, -7.79212, -7.72608,\n",
       "        -7.66004, -7.594  ]),\n",
       " <a list of 25 Patch objects>)"
      ]
     },
     "execution_count": 265,
     "metadata": {},
     "output_type": "execute_result"
    },
    {
     "data": {
      "image/png": "[encoded data removed]",
      "text/plain": [
       "<matplotlib.figure.Figure at 0x198d9155a58>"
      ]
     },
     "metadata": {},
     "output_type": "display_data"
    }
   ],
   "source": [
    "plt.hist(avg_objective_mixed, bins = 25)"
   ]
  },
  {
   "cell_type": "code",
   "execution_count": 266,
   "metadata": {},
   "outputs": [
    {
     "data": {
      "text/plain": [
       "(array([  1.,   1.,   1.,   1.,   2.,   7.,  10.,  27.,  38.,  46.,  76.,\n",
       "         80.,  96., 109.,  99., 115.,  80.,  78.,  45.,  28.,  28.,  20.,\n",
       "          5.,   5.,   2.]),\n",
       " array([4.54   , 4.57872, 4.61744, 4.65616, 4.69488, 4.7336 , 4.77232,\n",
       "        4.81104, 4.84976, 4.88848, 4.9272 , 4.96592, 5.00464, 5.04336,\n",
       "        5.08208, 5.1208 , 5.15952, 5.19824, 5.23696, 5.27568, 5.3144 ,\n",
       "        5.35312, 5.39184, 5.43056, 5.46928, 5.508  ]),\n",
       " <a list of 25 Patch objects>)"
      ]
     },
     "execution_count": 266,
     "metadata": {},
     "output_type": "execute_result"
    },
    {
     "data": {
      "image/png": "[encoded data removed]",
      "text/plain": [
       "<matplotlib.figure.Figure at 0x198d3ece9b0>"
      ]
     },
     "metadata": {},
     "output_type": "display_data"
    }
   ],
   "source": [
    "plt.hist(avg_wasted_mixed, bins = 25)\n",
    "plt.hist(avg_give_up_mixed, bins = 25)\n",
    "plt.hist(avg_wait_mixed, bins = 25)"
   ]
  },
  {
   "cell_type": "code",
   "execution_count": 306,
   "metadata": {},
   "outputs": [],
   "source": [
    "def SlotSimulator_mixed_max(num_patients, sunshine):\n",
    "    slots = []\n",
    "    new_slots = []\n",
    "    waiting = []  \n",
    "\n",
    "    for i in range(9):\n",
    "        slots.append(0)\n",
    "        waiting.append(0)\n",
    "        new_slots.append(0)\n",
    "        \n",
    "    # randomize the slot\n",
    "    i = 0\n",
    "    for i in range(5):\n",
    "        slots[i] = numpy.random.binomial(2, sunshine_array2[sunshine][i])\n",
    "    for i in range(5,9):\n",
    "        slots[i] = numpy.random.binomial(1, sunshine_array2[sunshine][i])\n",
    "    while sum(slots) < num_patients and sum(slots) < 14:\n",
    "        index = random.randint(0,8)\n",
    "        if slots[index] < 2 and index < 5:\n",
    "            slots[index] += 1\n",
    "        elif slots[index] < 1 and index >= 5 and index < 9:\n",
    "            slots[index] += 1\n",
    "    slots_used = 0\n",
    "    slots_used_no_show = 0\n",
    "    total_visit_slots = max(sum(slots), num_patients)\n",
    "    old_slots = []\n",
    "    # who will not show up??\n",
    "    for i in range(7):\n",
    "        tempon = numpy.random.binomial(slots[i], 1)\n",
    "        new_slots[i] = tempon\n",
    "        old_slots.append(tempon)\n",
    "        if slots[i] > 0:\n",
    "            slots_used += 1\n",
    "        if new_slots[i] > 0:\n",
    "            slots_used_no_show += 1\n",
    "        \n",
    "   \n",
    "    slots_no_show = sum(new_slots)\n",
    "    # simulate complete\n",
    "    for i in range(len(new_slots)):\n",
    "        if new_slots[i] >= 1 and waiting[i] == 0:\n",
    "            if i < 8:\n",
    "                waiting[i+1] = new_slots[i] - 1\n",
    "            new_slots[i] = 1\n",
    "        elif new_slots[i] >= 1 and waiting[i] > 0:\n",
    "            if i < 8:\n",
    "                waiting[i+1] = new_slots[i] + waiting[i] - 1\n",
    "            new_slots[i] = 1\n",
    "        elif new_slots[i] == 0 and waiting[i] > 0:\n",
    "            new_slots[i] = 1\n",
    "            if i < 8:\n",
    "                waiting[i+1] = waiting[i] - 1\n",
    "            for j in range(i-2, i+1):\n",
    "                tempo = waiting[j] - 1\n",
    "                waiting[j] = max(0, tempo)\n",
    "                \n",
    "        # after waiting one hour patients will reschedule\n",
    "        if i >= 2 and i < 8 and waiting[i-2] > 0:\n",
    "            temp = waiting[i+1] - waiting[i-2]\n",
    "            waiting[i+1] = max(0, temp)\n",
    "            for j in range(i-2,i):\n",
    "                temp2 = waiting[j] - waiting[i-2]\n",
    "                waiting[j] = max(0, temp2)\n",
    "        \n",
    "    slot_potential_wasted = slots_used - slots_used_no_show\n",
    "    give_up = slots_no_show - sum(new_slots)\n",
    "    wait_only_one_time = sum(new_slots) - slots_used_no_show\n",
    "    loss_prevented = sum(new_slots) - slots_used_no_show\n",
    "\n",
    "    return [slot_potential_wasted, give_up, wait_only_one_time, loss_prevented]   "
   ]
  },
  {
   "cell_type": "code",
   "execution_count": 307,
   "metadata": {},
   "outputs": [],
   "source": [
    "objective_mixed_max = []\n",
    "resources_wasted_mixed_max = []\n",
    "available_slots_mixed_max = []\n",
    "objective_func_mixed_max = [-1, -1.5, -0.25, -0.6, -0.15, 0.5]\n",
    "# -1: no show (slot-wise), -0.4: waiting too long to reschedule, -0.2: waiting just for one slot, 0: no waiting\n",
    "# -0.6: too packed (worst case), -0.15 : ok packed, 0: no packed, 0.5: slot created by letting patients wait\n",
    "\n",
    "\n",
    "for iteration in range(1):\n",
    "    day = 0\n",
    "    temp_objective_mixed_max = []\n",
    "    temp_resources_wasted_mixed_max = []\n",
    "    temp_available_slots_mixed_max = []\n",
    "    \n",
    "    while day < intervals:\n",
    "        patients_visit = 120\n",
    "        \n",
    "        therapists_patients = []\n",
    "        patients_per_therapist = int(patients_visit / num_therapists)\n",
    "        for i in range(num_therapists):\n",
    "            therapists_patients.append(patients_per_therapist)\n",
    "        i = 0\n",
    "        while sum(therapists_patients) < patients_visit:\n",
    "            therapists_patients[i] += 1\n",
    "            i += 1\n",
    "        \n",
    "        slots_wasted = 0\n",
    "        patients_give_up = 0\n",
    "        patients_wait_one_time = 0\n",
    "        slots_created = 0\n",
    "        ys = []\n",
    "        \n",
    "        for therapist in range(len(therapists_patients)):\n",
    "            visit_morning = int(therapists_patients[therapist] / 2)\n",
    "            visit_afternoon = therapists_patients[therapist] - visit_morning \n",
    "           \n",
    "            morning_result_therapist = SlotSimulator_mixed_max(visit_morning, 0)\n",
    "            afternoon_result_therapist = SlotSimulator_mixed_max(visit_afternoon, 1)\n",
    "            \n",
    "            slots_wasted += morning_result_therapist[0] + afternoon_result_therapist[0]\n",
    "            patients_give_up += morning_result_therapist[1] + afternoon_result_therapist[1]\n",
    "            patients_wait_one_time += morning_result_therapist[2] + afternoon_result_therapist[2]\n",
    "            ys.append(visit_morning + visit_afternoon - 14)\n",
    "            \n",
    "            slots_created += morning_result_therapist[3] + afternoon_result_therapist[3]\n",
    "        \n",
    "        ok_packed = 0\n",
    "        too_packed = 0\n",
    "        for y in range(len(ys)):\n",
    "            if y > 0 and y <= 2:\n",
    "                ok_packed += 1\n",
    "            elif y > 2:\n",
    "                too_packed += 1\n",
    "            \n",
    "        ok_packed = 0\n",
    "        too_packed = 0\n",
    "        for y in range(len(ys)):\n",
    "            if y > 0 and y <= 2:\n",
    "                ok_packed += 1\n",
    "            elif y > 2:\n",
    "                too_packed += 1\n",
    "        \n",
    "        result = [slots_wasted, patients_give_up, patients_wait_one_time, too_packed, ok_packed, slots_created]\n",
    "        obj_result = 0\n",
    "        for i in range(len(objective_func_over)):\n",
    "            obj_result += objective_func_mixed[i] * result[i]\n",
    "        \n",
    "        temp_objective_mixed_max.append(obj_result) \n",
    "        temp_resources_wasted_mixed_max.append([slots_wasted, too_packed, ok_packed])\n",
    "        temp_available_slots_mixed_max.append([patients_give_up, patients_wait_one_time])\n",
    "        day = day + 1\n",
    "\n",
    "    objective_mixed_max.append(temp_objective_mixed_max)\n",
    "    resources_wasted_mixed_max.append(temp_resources_wasted_mixed_max)\n",
    "    available_slots_mixed_max.append(temp_available_slots_mixed_max)\n",
    "        "
   ]
  },
  {
   "cell_type": "code",
   "execution_count": 314,
   "metadata": {},
   "outputs": [
    {
     "data": {
      "text/plain": [
       "[1]"
      ]
     },
     "execution_count": 314,
     "metadata": {},
     "output_type": "execute_result"
    }
   ],
   "source": [
    "avg_objective_mixed_max = []\n",
    "avg_objective_mixed_max.append(mean(objective_mixed_max[0]))\n",
    "avg_give_up = [mean(available_slots_mixed_max[0][0])]\n",
    "avg_slots_wasted"
   ]
  },
  {
   "cell_type": "code",
   "execution_count": 315,
   "metadata": {},
   "outputs": [
    {
     "data": {
      "text/plain": [
       "[[[40, 0],\n",
       "  [40, 0],\n",
       "  [40, 0],\n",
       "  [40, 0],\n",
       "  [40, 0],\n",
       "  [40, 0],\n",
       "  [40, 0],\n",
       "  [40, 0],\n",
       "  [40, 0],\n",
       "  [40, 0],\n",
       "  [40, 0],\n",
       "  [40, 0],\n",
       "  [40, 0],\n",
       "  [40, 0],\n",
       "  [40, 0],\n",
       "  [40, 0],\n",
       "  [40, 0],\n",
       "  [40, 0],\n",
       "  [40, 0],\n",
       "  [40, 0],\n",
       "  [40, 0],\n",
       "  [40, 0],\n",
       "  [40, 0],\n",
       "  [40, 0],\n",
       "  [40, 0],\n",
       "  [40, 0],\n",
       "  [40, 0],\n",
       "  [40, 0],\n",
       "  [40, 0],\n",
       "  [40, 0],\n",
       "  [40, 0],\n",
       "  [40, 0],\n",
       "  [40, 0],\n",
       "  [40, 0],\n",
       "  [40, 0],\n",
       "  [40, 0],\n",
       "  [40, 0],\n",
       "  [40, 0],\n",
       "  [40, 0],\n",
       "  [40, 0],\n",
       "  [40, 0],\n",
       "  [40, 0],\n",
       "  [40, 0],\n",
       "  [40, 0],\n",
       "  [40, 0],\n",
       "  [40, 0],\n",
       "  [40, 0],\n",
       "  [40, 0],\n",
       "  [40, 0],\n",
       "  [40, 0],\n",
       "  [40, 0],\n",
       "  [40, 0],\n",
       "  [40, 0],\n",
       "  [40, 0],\n",
       "  [40, 0],\n",
       "  [40, 0],\n",
       "  [40, 0],\n",
       "  [40, 0],\n",
       "  [40, 0],\n",
       "  [40, 0],\n",
       "  [40, 0],\n",
       "  [40, 0],\n",
       "  [40, 0],\n",
       "  [40, 0],\n",
       "  [40, 0],\n",
       "  [40, 0],\n",
       "  [40, 0],\n",
       "  [40, 0],\n",
       "  [40, 0],\n",
       "  [40, 0],\n",
       "  [40, 0],\n",
       "  [40, 0],\n",
       "  [40, 0],\n",
       "  [40, 0],\n",
       "  [40, 0],\n",
       "  [40, 0],\n",
       "  [40, 0],\n",
       "  [40, 0],\n",
       "  [40, 0],\n",
       "  [40, 0],\n",
       "  [40, 0],\n",
       "  [40, 0],\n",
       "  [40, 0],\n",
       "  [40, 0],\n",
       "  [40, 0],\n",
       "  [40, 0],\n",
       "  [40, 0],\n",
       "  [40, 0],\n",
       "  [40, 0],\n",
       "  [40, 0],\n",
       "  [40, 0],\n",
       "  [40, 0],\n",
       "  [40, 0],\n",
       "  [40, 0],\n",
       "  [40, 0],\n",
       "  [40, 0],\n",
       "  [40, 0],\n",
       "  [40, 0],\n",
       "  [40, 0],\n",
       "  [40, 0],\n",
       "  [40, 0],\n",
       "  [40, 0],\n",
       "  [40, 0],\n",
       "  [40, 0],\n",
       "  [40, 0],\n",
       "  [40, 0],\n",
       "  [40, 0],\n",
       "  [40, 0],\n",
       "  [40, 0],\n",
       "  [40, 0],\n",
       "  [40, 0],\n",
       "  [40, 0],\n",
       "  [40, 0],\n",
       "  [40, 0],\n",
       "  [40, 0],\n",
       "  [40, 0],\n",
       "  [40, 0],\n",
       "  [40, 0],\n",
       "  [40, 0],\n",
       "  [40, 0],\n",
       "  [40, 0],\n",
       "  [40, 0],\n",
       "  [40, 0],\n",
       "  [40, 0],\n",
       "  [40, 0],\n",
       "  [40, 0],\n",
       "  [40, 0],\n",
       "  [40, 0],\n",
       "  [40, 0],\n",
       "  [40, 0],\n",
       "  [40, 0],\n",
       "  [40, 0],\n",
       "  [40, 0],\n",
       "  [40, 0],\n",
       "  [40, 0],\n",
       "  [40, 0],\n",
       "  [40, 0],\n",
       "  [40, 0],\n",
       "  [40, 0],\n",
       "  [40, 0],\n",
       "  [40, 0],\n",
       "  [40, 0],\n",
       "  [40, 0],\n",
       "  [40, 0],\n",
       "  [40, 0],\n",
       "  [40, 0],\n",
       "  [40, 0],\n",
       "  [40, 0],\n",
       "  [40, 0],\n",
       "  [40, 0],\n",
       "  [40, 0],\n",
       "  [40, 0],\n",
       "  [40, 0],\n",
       "  [40, 0],\n",
       "  [40, 0],\n",
       "  [40, 0],\n",
       "  [40, 0],\n",
       "  [40, 0],\n",
       "  [40, 0],\n",
       "  [40, 0],\n",
       "  [40, 0],\n",
       "  [40, 0],\n",
       "  [40, 0],\n",
       "  [40, 0],\n",
       "  [40, 0],\n",
       "  [40, 0],\n",
       "  [40, 0],\n",
       "  [40, 0],\n",
       "  [40, 0],\n",
       "  [40, 0],\n",
       "  [40, 0],\n",
       "  [40, 0],\n",
       "  [40, 0],\n",
       "  [40, 0],\n",
       "  [40, 0],\n",
       "  [40, 0],\n",
       "  [40, 0],\n",
       "  [40, 0],\n",
       "  [40, 0],\n",
       "  [40, 0],\n",
       "  [40, 0],\n",
       "  [40, 0],\n",
       "  [40, 0],\n",
       "  [40, 0],\n",
       "  [40, 0],\n",
       "  [40, 0],\n",
       "  [40, 0],\n",
       "  [40, 0],\n",
       "  [40, 0],\n",
       "  [40, 0],\n",
       "  [40, 0],\n",
       "  [40, 0],\n",
       "  [40, 0],\n",
       "  [40, 0],\n",
       "  [40, 0],\n",
       "  [40, 0],\n",
       "  [40, 0],\n",
       "  [40, 0],\n",
       "  [40, 0],\n",
       "  [40, 0],\n",
       "  [40, 0],\n",
       "  [40, 0],\n",
       "  [40, 0],\n",
       "  [40, 0],\n",
       "  [40, 0],\n",
       "  [40, 0],\n",
       "  [40, 0],\n",
       "  [40, 0],\n",
       "  [40, 0],\n",
       "  [40, 0],\n",
       "  [40, 0],\n",
       "  [40, 0],\n",
       "  [40, 0],\n",
       "  [40, 0],\n",
       "  [40, 0],\n",
       "  [40, 0],\n",
       "  [40, 0],\n",
       "  [40, 0],\n",
       "  [40, 0],\n",
       "  [40, 0],\n",
       "  [40, 0],\n",
       "  [40, 0],\n",
       "  [40, 0],\n",
       "  [40, 0],\n",
       "  [40, 0],\n",
       "  [40, 0],\n",
       "  [40, 0],\n",
       "  [40, 0],\n",
       "  [40, 0],\n",
       "  [40, 0],\n",
       "  [40, 0],\n",
       "  [40, 0],\n",
       "  [40, 0],\n",
       "  [40, 0],\n",
       "  [40, 0],\n",
       "  [40, 0],\n",
       "  [40, 0],\n",
       "  [40, 0],\n",
       "  [40, 0],\n",
       "  [40, 0],\n",
       "  [40, 0],\n",
       "  [40, 0],\n",
       "  [40, 0],\n",
       "  [40, 0],\n",
       "  [40, 0],\n",
       "  [40, 0],\n",
       "  [40, 0],\n",
       "  [40, 0],\n",
       "  [40, 0],\n",
       "  [40, 0]]]"
      ]
     },
     "execution_count": 315,
     "metadata": {},
     "output_type": "execute_result"
    }
   ],
   "source": [
    "available_slots_mixed_max"
   ]
  },
  {
   "cell_type": "code",
   "execution_count": 309,
   "metadata": {},
   "outputs": [
    {
     "data": {
      "text/plain": [
       "-60.9"
      ]
     },
     "execution_count": 309,
     "metadata": {},
     "output_type": "execute_result"
    }
   ],
   "source": [
    "avg_avg_objective_mixed_max = mean(avg_objective_mixed_max)\n",
    "avg_avg_objective_mixed_max"
   ]
  },
  {
   "cell_type": "code",
   "execution_count": 43,
   "metadata": {},
   "outputs": [
    {
     "data": {
      "text/plain": [
       "<matplotlib.legend.Legend at 0x21a7da45cc0>"
      ]
     },
     "execution_count": 43,
     "metadata": {},
     "output_type": "execute_result"
    },
    {
     "data": {
      "image/png": "[encoded data removed]",
      "text/plain": [
       "<matplotlib.figure.Figure at 0x21a7d977518>"
      ]
     },
     "metadata": {},
     "output_type": "display_data"
    }
   ],
   "source": [
    "plt.hist(avg_objective_current, bins = 25, label = 'objective under current system')\n",
    "plt.hist(avg_objective_over, bins = 25, label = 'objective under overbooking')\n",
    "plt.hist(avg_objective_freq, bins = 25, label = 'objective under fee on freq system')\n",
    "plt.hist(avg_objective_mixed, bins = 25, label = 'objective under mixed strategy')\n",
    "plt.legend()"
   ]
  },
  {
   "cell_type": "code",
   "execution_count": 36,
   "metadata": {},
   "outputs": [
    {
     "data": {
      "text/plain": [
       "Text(0.5,1,'Resource wasted for each strategy')"
      ]
     },
     "execution_count": 36,
     "metadata": {},
     "output_type": "execute_result"
    },
    {
     "data": {
      "image/png": "[encoded data removed]",
      "text/plain": [
       "<matplotlib.figure.Figure at 0x21a7bf93550>"
      ]
     },
     "metadata": {},
     "output_type": "display_data"
    }
   ],
   "source": [
    "plt.hist(avg_no_show_current, bins = 25, label = 'Resource wasted under current system')\n",
    "plt.hist(avg_wasted_over, bins = 25, label = 'Resource wasted under overbooking')\n",
    "plt.hist(avg_no_show_freq, bins = 25, label = 'Resource wasted under fee on freq system')\n",
    "plt.hist(avg_wasted_mixed, bins = 25, label = 'Resource wasted under mixed strategy')\n",
    "plt.legend()\n",
    "plt.title('Resource wasted for each strategy')"
   ]
  },
  {
   "cell_type": "code",
   "execution_count": 37,
   "metadata": {},
   "outputs": [
    {
     "data": {
      "text/plain": [
       "Text(0.5,1,'Patients who give up waiting for each strategy')"
      ]
     },
     "execution_count": 37,
     "metadata": {},
     "output_type": "execute_result"
    },
    {
     "data": {
      "image/png": "[encoded data removed]",
      "text/plain": [
       "<matplotlib.figure.Figure at 0x21a7909e748>"
      ]
     },
     "metadata": {},
     "output_type": "display_data"
    }
   ],
   "source": [
    "plt.hist(avg_give_up_over, bins = 25, label = 'patients giving up under overbooking')\n",
    "plt.hist(avg_give_up_mixed, bins = 25, label = 'patients giving up  under mixed strategy')\n",
    "plt.legend()\n",
    "plt.title('Patients who give up waiting for each strategy')"
   ]
  },
  {
   "cell_type": "code",
   "execution_count": 38,
   "metadata": {},
   "outputs": [
    {
     "data": {
      "text/plain": [
       "Text(0.5,1,'Patients who give up waiting for each strategy')"
      ]
     },
     "execution_count": 38,
     "metadata": {},
     "output_type": "execute_result"
    },
    {
     "data": {
      "image/png": "[encoded data removed]",
      "text/plain": [
       "<matplotlib.figure.Figure at 0x21a7c3a1cc0>"
      ]
     },
     "metadata": {},
     "output_type": "display_data"
    }
   ],
   "source": [
    "plt.hist(avg_wait_over, bins = 25, label = 'patients waiting under overbooking')\n",
    "plt.hist(avg_wait_mixed, bins = 25, label = 'patients waiting  under mixed strategy')\n",
    "plt.legend()\n",
    "plt.title('Patients who are waiting for each strategy')"
   ]
  },
  {
   "cell_type": "code",
   "execution_count": 44,
   "metadata": {},
   "outputs": [
    {
     "data": {
      "text/plain": [
       "Text(0.5,1,'Patients not showing up for each strategy')"
      ]
     },
     "execution_count": 44,
     "metadata": {},
     "output_type": "execute_result"
    },
    {
     "data": {
      "image/png": "[encoded data removed]",
      "text/plain": [
       "<matplotlib.figure.Figure at 0x21a7d875ba8>"
      ]
     },
     "metadata": {},
     "output_type": "display_data"
    }
   ],
   "source": [
    "plt.hist(avg_not_showing_current, bins = 25, label = 'Patients not showing up under current system')\n",
    "plt.hist(avg_not_showing_freq, bins = 25, label = 'Patients not showing up under fee on freq system')\n",
    "plt.legend()\n",
    "plt.title('Patients not showing up for each strategy')\n"
   ]
  },
  {
   "cell_type": "code",
   "execution_count": 42,
   "metadata": {},
   "outputs": [
    {
     "data": {
      "text/plain": [
       "Text(0.5,1,'Patients changing their mind for each strategy')"
      ]
     },
     "execution_count": 42,
     "metadata": {},
     "output_type": "execute_result"
    },
    {
     "data": {
      "image/png": "[encoded data removed]",
      "text/plain": [
       "<matplotlib.figure.Figure at 0x21a7d8754a8>"
      ]
     },
     "metadata": {},
     "output_type": "display_data"
    }
   ],
   "source": [
    "plt.hist(avg_changing_mind_current, bins = 25, label = 'Patients changing their mind under current system')\n",
    "plt.hist(avg_changing_mind_freq, bins = 25, label = 'Patients changing their mind under fee on freq system')\n",
    "plt.legend()\n",
    "plt.title('Patients changing their mind for each strategy')"
   ]
  },
  {
   "cell_type": "code",
   "execution_count": null,
   "metadata": {},
   "outputs": [],
   "source": []
  }
 ],
 "metadata": {
  "kernelspec": {
   "display_name": "Python 3",
   "language": "python",
   "name": "python3"
  },
  "language_info": {
   "codemirror_mode": {
    "name": "ipython",
    "version": 3
   },
   "file_extension": ".py",
   "mimetype": "text/x-python",
   "name": "python",
   "nbconvert_exporter": "python",
   "pygments_lexer": "ipython3",
   "version": "3.6.4"
  }
 },
 "nbformat": 4,
 "nbformat_minor": 2
}
